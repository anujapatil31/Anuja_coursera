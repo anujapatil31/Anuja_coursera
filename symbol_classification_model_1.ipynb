{
  "nbformat": 4,
  "nbformat_minor": 0,
  "metadata": {
    "accelerator": "GPU",
    "colab": {
      "name": "symbol-classification_model_1.ipynb",
      "provenance": [],
      "collapsed_sections": [],
      "include_colab_link": true
    },
    "kernelspec": {
      "display_name": "Python 3",
      "language": "python",
      "name": "python3"
    },
    "language_info": {
      "codemirror_mode": {
        "name": "ipython",
        "version": 3
      },
      "file_extension": ".py",
      "mimetype": "text/x-python",
      "name": "python",
      "nbconvert_exporter": "python",
      "pygments_lexer": "ipython3",
      "version": "3.7.6"
    }
  },
  "cells": [
    {
      "cell_type": "markdown",
      "metadata": {
        "id": "view-in-github",
        "colab_type": "text"
      },
      "source": [
        "<a href=\"https://colab.research.google.com/github/anujapatil31/Anuja_coursera/blob/master/symbol_classification_model_1.ipynb\" target=\"_parent\"><img src=\"https://colab.research.google.com/assets/colab-badge.svg\" alt=\"Open In Colab\"/></a>"
      ]
    },
    {
      "cell_type": "markdown",
      "metadata": {
        "id": "1bPY7C6f6oSF"
      },
      "source": [
        "Let's begin by installing and importing the required libraries."
      ]
    },
    {
      "cell_type": "code",
      "metadata": {
        "id": "ZSdBL2673KUX"
      },
      "source": [
        "import os\n",
        "import torch\n",
        "import torchvision\n",
        "import tarfile\n",
        "import torch.nn as nn\n",
        "import numpy as np\n",
        "import torch.nn.functional as F\n",
        "from torchvision.datasets.utils import download_url\n",
        "from torchvision.datasets import ImageFolder\n",
        "from torch.utils.data import DataLoader\n",
        "import torchvision.transforms as tt\n",
        "from torch.utils.data import random_split\n",
        "from torchvision.utils import make_grid\n",
        "import matplotlib\n",
        "import matplotlib.pyplot as plt\n",
        "%matplotlib inline\n",
        "\n",
        "matplotlib.rcParams['figure.facecolor'] = '#ffffff'"
      ],
      "execution_count": 1,
      "outputs": []
    },
    {
      "cell_type": "markdown",
      "metadata": {
        "id": "K9DhdAlLkqMd"
      },
      "source": [
        "# Preparing the Dataset."
      ]
    },
    {
      "cell_type": "code",
      "metadata": {
        "id": "7pI9I2x-lSDu",
        "colab": {
          "base_uri": "https://localhost:8080/"
        },
        "outputId": "39640d98-57fc-4a20-8017-afbb53b46f7f"
      },
      "source": [
        "from google.colab import drive\n",
        "drive.mount('/content/drive')"
      ],
      "execution_count": 2,
      "outputs": [
        {
          "output_type": "stream",
          "text": [
            "Drive already mounted at /content/drive; to attempt to forcibly remount, call drive.mount(\"/content/drive\", force_remount=True).\n"
          ],
          "name": "stdout"
        }
      ]
    },
    {
      "cell_type": "code",
      "metadata": {
        "colab": {
          "base_uri": "https://localhost:8080/"
        },
        "id": "M5DA87OkkxiM",
        "outputId": "8766159f-ae6c-4834-82d6-077068dc0db2"
      },
      "source": [
        "train_path = \"/content/drive/MyDrive/P&ID DATA/cropped_img\"\n",
        "classes = os.listdir(train_path)\n",
        "print(classes)\n",
        "len(os.listdir(train_path))"
      ],
      "execution_count": 3,
      "outputs": [
        {
          "output_type": "stream",
          "text": [
            "['flow_direction', 'separator', 'valve', 'Inside text', 'line_break', 'plug', 'Unidentified', 'Instrument', 'tank_vessel', 'flange_blind', 'Actuator', 'connector', 'Concentric', 'engine', 'flange']\n"
          ],
          "name": "stdout"
        },
        {
          "output_type": "execute_result",
          "data": {
            "text/plain": [
              "15"
            ]
          },
          "metadata": {
            "tags": []
          },
          "execution_count": 3
        }
      ]
    },
    {
      "cell_type": "code",
      "metadata": {
        "id": "9GKTiEiNa2_M"
      },
      "source": [
        "# Label Overview\n",
        "classes_labels = { 0:'Actuator',\n",
        "            1:'Concentric', \n",
        "            2:'Inside text', \n",
        "            3: 'Instrument',\n",
        "            4: 'Unidentified',\n",
        "            5: 'connector',\n",
        "            6: 'engine',\n",
        "            7: 'flange',\n",
        "            8: 'flange_blind',\n",
        "            9: 'flow_direction',\n",
        "            10: 'line_break',\n",
        "            11: 'plug',\n",
        "            12: 'separator',\n",
        "            13: 'tank_vessel',\n",
        "            14: 'valve'                    \n",
        "            \n",
        "             }"
      ],
      "execution_count": 4,
      "outputs": []
    },
    {
      "cell_type": "code",
      "metadata": {
        "id": "TVz0gcdX3KUZ",
        "colab": {
          "base_uri": "https://localhost:8080/"
        },
        "outputId": "984007bb-fe1d-458a-c3d1-62ceadf723f1"
      },
      "source": [
        "# Data transforms (normalization & data augmentation)\n",
        "#stats = ((0.4914, 0.4822, 0.4465), (0.2023, 0.1994, 0.2010))\n",
        "transform = tt.Compose(\n",
        "    [\n",
        "        tt.Compose([tt.Scale((64,64))]),\n",
        "        tt.ToTensor(),\n",
        "        #tt.Normalize(*stats,inplace=True)\n",
        "    ]   \n",
        "    \n",
        ")"
      ],
      "execution_count": 5,
      "outputs": [
        {
          "output_type": "stream",
          "text": [
            "/usr/local/lib/python3.7/dist-packages/torchvision/transforms/transforms.py:310: UserWarning: The use of the transforms.Scale transform is deprecated, please use transforms.Resize instead.\n",
            "  warnings.warn(\"The use of the transforms.Scale transform is deprecated, \" +\n"
          ],
          "name": "stderr"
        }
      ]
    },
    {
      "cell_type": "code",
      "metadata": {
        "colab": {
          "base_uri": "https://localhost:8080/"
        },
        "id": "Rnb8LqXT3KUZ",
        "outputId": "0103cb26-2c2e-451c-fbba-f309bfbf6397"
      },
      "source": [
        "# PyTorch datasets\n",
        "dataset = ImageFolder(train_path, transform)\n",
        "len(dataset)\n",
        " "
      ],
      "execution_count": 6,
      "outputs": [
        {
          "output_type": "execute_result",
          "data": {
            "text/plain": [
              "3724"
            ]
          },
          "metadata": {
            "tags": []
          },
          "execution_count": 6
        }
      ]
    },
    {
      "cell_type": "code",
      "metadata": {
        "colab": {
          "base_uri": "https://localhost:8080/"
        },
        "id": "BaatWfJyn6ZP",
        "outputId": "e511a58a-72a9-4d9c-ab3a-15b7b1b21ab0"
      },
      "source": [
        "dataset[0]"
      ],
      "execution_count": 7,
      "outputs": [
        {
          "output_type": "execute_result",
          "data": {
            "text/plain": [
              "(tensor([[[0.9843, 1.0000, 1.0000,  ..., 1.0000, 1.0000, 1.0000],\n",
              "          [0.9725, 0.9961, 1.0000,  ..., 0.7529, 0.7765, 0.8471],\n",
              "          [0.9255, 0.9882, 1.0000,  ..., 0.8392, 0.9020, 0.8431],\n",
              "          ...,\n",
              "          [0.8863, 0.9843, 1.0000,  ..., 1.0000, 0.9843, 0.8745],\n",
              "          [0.9216, 0.9922, 1.0000,  ..., 0.9882, 0.9804, 0.9059],\n",
              "          [0.9412, 0.9922, 1.0000,  ..., 0.9137, 0.9451, 1.0000]],\n",
              " \n",
              "         [[1.0000, 1.0000, 0.9804,  ..., 0.8863, 0.9020, 0.9137],\n",
              "          [1.0000, 0.9843, 0.8980,  ..., 0.4000, 0.3882, 0.4078],\n",
              "          [1.0000, 0.9490, 0.7569,  ..., 0.4824, 0.4039, 0.1490],\n",
              "          ...,\n",
              "          [1.0000, 0.9412, 0.6824,  ..., 0.8667, 0.7333, 0.1137],\n",
              "          [1.0000, 0.9569, 0.7333,  ..., 0.4667, 0.4078, 0.0941],\n",
              "          [1.0000, 0.9686, 0.8392,  ..., 0.1569, 0.1569, 0.1686]],\n",
              " \n",
              "         [[1.0000, 0.9843, 0.9569,  ..., 0.8902, 0.8824, 0.8824],\n",
              "          [0.9922, 0.9725, 0.8941,  ..., 0.3882, 0.3686, 0.3843],\n",
              "          [1.0000, 0.9451, 0.7804,  ..., 0.4588, 0.3843, 0.1451],\n",
              "          ...,\n",
              "          [1.0000, 0.9529, 0.6941,  ..., 0.8471, 0.7137, 0.1137],\n",
              "          [1.0000, 0.9490, 0.7098,  ..., 0.4980, 0.4235, 0.0941],\n",
              "          [1.0000, 0.9608, 0.8039,  ..., 0.2078, 0.1804, 0.1529]]]), 0)"
            ]
          },
          "metadata": {
            "tags": []
          },
          "execution_count": 7
        }
      ]
    },
    {
      "cell_type": "code",
      "metadata": {
        "id": "k8fLEcj73KUa"
      },
      "source": [
        "batch_size = 128"
      ],
      "execution_count": 8,
      "outputs": []
    },
    {
      "cell_type": "code",
      "metadata": {
        "colab": {
          "base_uri": "https://localhost:8080/"
        },
        "id": "gri_SzPRmKLV",
        "outputId": "3082a0ab-350e-4768-a71a-ea282e3a9e99"
      },
      "source": [
        "validataion_percentage = 0.1\n",
        "validation_size = int(validataion_percentage * len(dataset))\n",
        "train_size = len(dataset) - validation_size\n",
        "print(\"Train_size: \", train_size)\n",
        "print(\"Validation_size: \",validation_size)"
      ],
      "execution_count": 9,
      "outputs": [
        {
          "output_type": "stream",
          "text": [
            "Train_size:  3352\n",
            "Validation_size:  372\n"
          ],
          "name": "stdout"
        }
      ]
    },
    {
      "cell_type": "code",
      "metadata": {
        "colab": {
          "base_uri": "https://localhost:8080/"
        },
        "id": "dGsjRFHwmMcn",
        "outputId": "66025c3a-8dc7-4554-9f0c-523667ead82d"
      },
      "source": [
        "from torch.utils.data import random_split\n",
        "train_ds, valid_ds = random_split(dataset, [train_size, validation_size])\n",
        "len(train_ds), len(valid_ds)"
      ],
      "execution_count": 10,
      "outputs": [
        {
          "output_type": "execute_result",
          "data": {
            "text/plain": [
              "(3352, 372)"
            ]
          },
          "metadata": {
            "tags": []
          },
          "execution_count": 10
        }
      ]
    },
    {
      "cell_type": "code",
      "metadata": {
        "colab": {
          "base_uri": "https://localhost:8080/"
        },
        "id": "kPY8yg543KUa",
        "outputId": "f633e1b3-f0f2-42b7-c367-b0adef0c9e3e"
      },
      "source": [
        "# PyTorch data loaders\n",
        "train_dl = DataLoader(train_ds, \n",
        "                      batch_size, \n",
        "                      shuffle=True, \n",
        "                      num_workers=3, \n",
        "                      pin_memory=True)\n",
        "valid_dl = DataLoader(valid_ds,\n",
        "                      batch_size*2,\n",
        "                      num_workers=3,\n",
        "                      pin_memory=True)"
      ],
      "execution_count": 11,
      "outputs": [
        {
          "output_type": "stream",
          "text": [
            "/usr/local/lib/python3.7/dist-packages/torch/utils/data/dataloader.py:481: UserWarning: This DataLoader will create 3 worker processes in total. Our suggested max number of worker in current system is 2, which is smaller than what this DataLoader is going to create. Please be aware that excessive worker creation might get DataLoader running slow or even freeze, lower the worker number to avoid potential slowness/freeze if necessary.\n",
            "  cpuset_checked))\n"
          ],
          "name": "stderr"
        }
      ]
    },
    {
      "cell_type": "code",
      "metadata": {
        "id": "ACnFDpQJmQfq"
      },
      "source": [
        "\n",
        "\n",
        "def show_batch(dl):\n",
        "    for images, labels in dl:\n",
        "        fig, ax = plt.subplots(figsize=(8, 6))\n",
        "        ax.set_xticks([]); ax.set_yticks([])\n",
        "        ax.imshow(make_grid(images, nrow=16).permute(1, 2, 0))\n",
        "        break "
      ],
      "execution_count": 12,
      "outputs": []
    },
    {
      "cell_type": "markdown",
      "metadata": {
        "id": "hg3i8Ef49GWL"
      },
      "source": [
        " \n",
        "\n",
        "## Using a GPU\n",
        "\n"
      ]
    },
    {
      "cell_type": "code",
      "metadata": {
        "id": "dF6pTDuS9Hrk"
      },
      "source": [
        "def get_default_device():\n",
        "    \"\"\"Pick GPU if available, else CPU\"\"\"\n",
        "    if torch.cuda.is_available():\n",
        "        return torch.device('cuda')\n",
        "    else:\n",
        "        return torch.device('cpu')\n",
        "    \n",
        "def to_device(data, device):\n",
        "    \"\"\"Move tensor(s) to chosen device\"\"\"\n",
        "    if isinstance(data, (list,tuple)):\n",
        "        return [to_device(x, device) for x in data]\n",
        "    return data.to(device, non_blocking=True)\n",
        "\n",
        "class DeviceDataLoader():\n",
        "    \"\"\"Wrap a dataloader to move data to a device\"\"\"\n",
        "    def __init__(self, dl, device):\n",
        "        self.dl = dl\n",
        "        self.device = device\n",
        "        \n",
        "    def __iter__(self):\n",
        "        \"\"\"Yield a batch of data after moving it to device\"\"\"\n",
        "        for b in self.dl: \n",
        "            yield to_device(b, self.device)\n",
        "\n",
        "    def __len__(self):\n",
        "        \"\"\"Number of batches\"\"\"\n",
        "        return len(self.dl)"
      ],
      "execution_count": 13,
      "outputs": []
    },
    {
      "cell_type": "markdown",
      "metadata": {
        "id": "NfJ1GWcO9MTJ"
      },
      "source": [
        "Based on where you're running this notebook, your default device could be a CPU (`torch.device('cpu')`) or a GPU (`torch.device('cuda')`)"
      ]
    },
    {
      "cell_type": "code",
      "metadata": {
        "colab": {
          "base_uri": "https://localhost:8080/"
        },
        "id": "qZZC77Bv9L8t",
        "outputId": "c2f6419c-851e-4eb8-9647-ba37ab931acf"
      },
      "source": [
        "device = get_default_device()\n",
        "device"
      ],
      "execution_count": 14,
      "outputs": [
        {
          "output_type": "execute_result",
          "data": {
            "text/plain": [
              "device(type='cuda')"
            ]
          },
          "metadata": {
            "tags": []
          },
          "execution_count": 14
        }
      ]
    },
    {
      "cell_type": "markdown",
      "metadata": {
        "id": "n-dnB15f9PWn"
      },
      "source": [
        "We can now wrap our training and validation data loaders using `DeviceDataLoader` for automatically transferring batches of data to the GPU (if available)."
      ]
    },
    {
      "cell_type": "code",
      "metadata": {
        "id": "ckHEX9k99QdW"
      },
      "source": [
        "train_dl = DeviceDataLoader(train_dl, device)\n",
        "valid_dl = DeviceDataLoader(valid_dl, device)"
      ],
      "execution_count": 15,
      "outputs": []
    },
    {
      "cell_type": "markdown",
      "metadata": {
        "id": "cw8n_oq-Osm1"
      },
      "source": [
        "Modeling and Training Utilities"
      ]
    },
    {
      "cell_type": "code",
      "metadata": {
        "id": "oJaXC8a6O1uq"
      },
      "source": [
        "import torch.nn as nn\n",
        "import torch.nn.functional as F\n",
        "class ImageClassificationBase(nn.Module):\n",
        "    def training_step(self, batch):\n",
        "        \"calculate loss for a batch of training Data\"\n",
        "        images, labels = batch \n",
        "        out = self(images)                  # Generate predictions\n",
        "        loss = F.cross_entropy(out, labels) # Calculate loss\n",
        "        return loss\n",
        "    \n",
        "    def validation_step(self, batch):\n",
        "        \"calculate loss & accuracy for a batch of validation data\"\n",
        "        images, labels = batch \n",
        "        out = self(images)                    # Generate predictions\n",
        "        loss = F.cross_entropy(out, labels)   # Calculate loss\n",
        "        acc = accuracy(out, labels)           # Calculate accuracy\n",
        "        return {'val_loss': loss.detach(), 'val_acc': acc}\n",
        "        \n",
        "    def validation_epoch_end(self, outputs):\n",
        "        \" Helper Function to combine result for every iteration\"\n",
        "        batch_losses = [x['val_loss'] for x in outputs]\n",
        "        epoch_loss = torch.stack(batch_losses).mean()   # Combine losses\n",
        "        batch_accs = [x['val_acc'] for x in outputs]\n",
        "        epoch_acc = torch.stack(batch_accs).mean()      # Combine accuracies\n",
        "        return {'val_loss': epoch_loss.item(), 'val_acc': epoch_acc.item()}\n",
        "    \n",
        "    def epoch_end(self, epoch, result):\n",
        "        print(\"Epoch [{}], train_loss: {:.4f}, val_loss: {:.4f}, val_acc: {:.4f}\".format(\n",
        "            epoch, result['train_loss'], result['val_loss'], result['val_acc']))\n",
        "        \n",
        "def accuracy(outputs, labels):\n",
        "    _, preds = torch.max(outputs, dim=1)\n",
        "    return torch.tensor(torch.sum(preds == labels).item() / len(preds))"
      ],
      "execution_count": 16,
      "outputs": []
    },
    {
      "cell_type": "code",
      "metadata": {
        "id": "d_vyT-ejO4sv"
      },
      "source": [
        "class RADCnnModel(ImageClassificationBase):\n",
        "    def __init__(self):\n",
        "        super().__init__()\n",
        "        self.network = nn.Sequential(\n",
        "            # input: 3 x 64 x 64\n",
        "            nn.Conv2d(3, 32, kernel_size=3, padding=1),#layer 1: Convolution layer\n",
        "            # output: 32 x 64 x 64\n",
        "            nn.ReLU(), #layer 2: Activation Function \n",
        "            # output: 32 x 64 x 64\n",
        "            nn.Conv2d(32, 64, kernel_size=3, stride=1, padding=1), #layer 3: Convolution Layer\n",
        "            # output: 64 x 64 x 64\n",
        "            nn.ReLU(),#layer 4: Activation layer\n",
        "            # output: 64 x 64 x 64\n",
        "            nn.MaxPool2d(2, 2), # layer 5: Max Pooling Layer.\n",
        "             # output: 64 x 32 x 32\n",
        "\n",
        "            nn.Conv2d(64, 128, kernel_size=3, stride=1, padding=1),          \n",
        "            nn.ReLU(),\n",
        "            nn.Conv2d(128, 128, kernel_size=3, stride=1, padding=1),\n",
        "            nn.ReLU(),\n",
        "            nn.MaxPool2d(2, 2), # output: 128 x 16 x 16\n",
        "\n",
        "            nn.Conv2d(128, 256, kernel_size=3, stride=1, padding=1),          \n",
        "            nn.ReLU(),\n",
        "            nn.Conv2d(256, 256, kernel_size=3, stride=1, padding=1),\n",
        "            nn.ReLU(),\n",
        "            nn.MaxPool2d(2, 2), # output: 256 x 8 x 8\n",
        "\n",
        "            nn.Conv2d(256, 512, kernel_size=3, stride=1, padding=1),\n",
        "            nn.ReLU(),\n",
        "            nn.Conv2d(512, 512, kernel_size=3, stride=1, padding=1),\n",
        "            nn.ReLU(),\n",
        "            nn.MaxPool2d(2, 2), # output: 512 x 4 x 4\n",
        "\n",
        "            nn.Flatten(), \n",
        "            nn.Linear(512*4*4, 2048),\n",
        "            nn.ReLU(),\n",
        "            nn.Linear(2048, 1024),\n",
        "            nn.ReLU(),\n",
        "            nn.Linear(1024, 43))\n",
        "        \n",
        "    def forward(self, xb):\n",
        "        return self.network(xb)"
      ],
      "execution_count": 17,
      "outputs": []
    },
    {
      "cell_type": "code",
      "metadata": {
        "id": "zRa_FLbWO8Nt"
      },
      "source": [
        "@torch.no_grad()\n",
        "def evaluate(model, val_loader):\n",
        "    model.eval()\n",
        "    outputs = [model.validation_step(batch) for batch in val_loader]\n",
        "    return model.validation_epoch_end(outputs)\n",
        "\n",
        "def fit(epochs, lr, model, train_loader, val_loader, opt_func=torch.optim.SGD):\n",
        "    history = []\n",
        "    optimizer = opt_func(model.parameters(), lr)\n",
        "    for epoch in range(epochs):\n",
        "        # Training Phase \n",
        "        model.train()\n",
        "        train_losses = []\n",
        "        for batch in train_loader:\n",
        "            loss = model.training_step(batch)\n",
        "            train_losses.append(loss)\n",
        "            loss.backward()\n",
        "            optimizer.step()\n",
        "            optimizer.zero_grad()\n",
        "        # Validation phase\n",
        "        result = evaluate(model, val_loader)\n",
        "        result['train_loss'] = torch.stack(train_losses).mean().item()\n",
        "        model.epoch_end(epoch, result)\n",
        "        history.append(result)\n",
        "    return history"
      ],
      "execution_count": 18,
      "outputs": []
    },
    {
      "cell_type": "code",
      "metadata": {
        "colab": {
          "base_uri": "https://localhost:8080/"
        },
        "id": "bfks0dwqO-Rg",
        "outputId": "7fedd1b3-3765-4de4-c159-c91fd5c92e06"
      },
      "source": [
        "model = RADCnnModel()\n",
        "model"
      ],
      "execution_count": 19,
      "outputs": [
        {
          "output_type": "execute_result",
          "data": {
            "text/plain": [
              "RADCnnModel(\n",
              "  (network): Sequential(\n",
              "    (0): Conv2d(3, 32, kernel_size=(3, 3), stride=(1, 1), padding=(1, 1))\n",
              "    (1): ReLU()\n",
              "    (2): Conv2d(32, 64, kernel_size=(3, 3), stride=(1, 1), padding=(1, 1))\n",
              "    (3): ReLU()\n",
              "    (4): MaxPool2d(kernel_size=2, stride=2, padding=0, dilation=1, ceil_mode=False)\n",
              "    (5): Conv2d(64, 128, kernel_size=(3, 3), stride=(1, 1), padding=(1, 1))\n",
              "    (6): ReLU()\n",
              "    (7): Conv2d(128, 128, kernel_size=(3, 3), stride=(1, 1), padding=(1, 1))\n",
              "    (8): ReLU()\n",
              "    (9): MaxPool2d(kernel_size=2, stride=2, padding=0, dilation=1, ceil_mode=False)\n",
              "    (10): Conv2d(128, 256, kernel_size=(3, 3), stride=(1, 1), padding=(1, 1))\n",
              "    (11): ReLU()\n",
              "    (12): Conv2d(256, 256, kernel_size=(3, 3), stride=(1, 1), padding=(1, 1))\n",
              "    (13): ReLU()\n",
              "    (14): MaxPool2d(kernel_size=2, stride=2, padding=0, dilation=1, ceil_mode=False)\n",
              "    (15): Conv2d(256, 512, kernel_size=(3, 3), stride=(1, 1), padding=(1, 1))\n",
              "    (16): ReLU()\n",
              "    (17): Conv2d(512, 512, kernel_size=(3, 3), stride=(1, 1), padding=(1, 1))\n",
              "    (18): ReLU()\n",
              "    (19): MaxPool2d(kernel_size=2, stride=2, padding=0, dilation=1, ceil_mode=False)\n",
              "    (20): Flatten(start_dim=1, end_dim=-1)\n",
              "    (21): Linear(in_features=8192, out_features=2048, bias=True)\n",
              "    (22): ReLU()\n",
              "    (23): Linear(in_features=2048, out_features=1024, bias=True)\n",
              "    (24): ReLU()\n",
              "    (25): Linear(in_features=1024, out_features=43, bias=True)\n",
              "  )\n",
              ")"
            ]
          },
          "metadata": {
            "tags": []
          },
          "execution_count": 19
        }
      ]
    },
    {
      "cell_type": "code",
      "metadata": {
        "id": "LWq3jnTtPCXd"
      },
      "source": [
        "model = to_device(RADCnnModel(), device)"
      ],
      "execution_count": 20,
      "outputs": []
    },
    {
      "cell_type": "code",
      "metadata": {
        "colab": {
          "base_uri": "https://localhost:8080/"
        },
        "id": "CHz_NkfqPEGW",
        "outputId": "7d3b5aa5-6b6e-413d-beff-666381c3e88f"
      },
      "source": [
        "evaluate(model, valid_dl)"
      ],
      "execution_count": 21,
      "outputs": [
        {
          "output_type": "stream",
          "text": [
            "/usr/local/lib/python3.7/dist-packages/torch/utils/data/dataloader.py:481: UserWarning: This DataLoader will create 3 worker processes in total. Our suggested max number of worker in current system is 2, which is smaller than what this DataLoader is going to create. Please be aware that excessive worker creation might get DataLoader running slow or even freeze, lower the worker number to avoid potential slowness/freeze if necessary.\n",
            "  cpuset_checked))\n",
            "/usr/local/lib/python3.7/dist-packages/torch/nn/functional.py:718: UserWarning: Named tensors and all their associated APIs are an experimental feature and subject to change. Please do not use them for anything important until they are released as stable. (Triggered internally at  /pytorch/c10/core/TensorImpl.h:1156.)\n",
            "  return torch.max_pool2d(input, kernel_size, stride, padding, dilation, ceil_mode)\n"
          ],
          "name": "stderr"
        },
        {
          "output_type": "execute_result",
          "data": {
            "text/plain": [
              "{'val_acc': 0.07118804007768631, 'val_loss': 3.751281976699829}"
            ]
          },
          "metadata": {
            "tags": []
          },
          "execution_count": 21
        }
      ]
    },
    {
      "cell_type": "code",
      "metadata": {
        "id": "sUKGheksPOIt"
      },
      "source": [
        "num_epochs = 35\n",
        "opt_func = torch.optim.Adam\n",
        "lr = 0.001"
      ],
      "execution_count": 22,
      "outputs": []
    },
    {
      "cell_type": "code",
      "metadata": {
        "colab": {
          "base_uri": "https://localhost:8080/"
        },
        "id": "KbwhCB0gPP7F",
        "outputId": "0775d0ff-3ca2-4c1c-bb9c-2eecd1970fdb"
      },
      "source": [
        "history = fit(num_epochs, lr, model, train_dl, valid_dl, opt_func)"
      ],
      "execution_count": 23,
      "outputs": [
        {
          "output_type": "stream",
          "text": [
            "/usr/local/lib/python3.7/dist-packages/torch/utils/data/dataloader.py:481: UserWarning: This DataLoader will create 3 worker processes in total. Our suggested max number of worker in current system is 2, which is smaller than what this DataLoader is going to create. Please be aware that excessive worker creation might get DataLoader running slow or even freeze, lower the worker number to avoid potential slowness/freeze if necessary.\n",
            "  cpuset_checked))\n"
          ],
          "name": "stderr"
        },
        {
          "output_type": "stream",
          "text": [
            "Epoch [0], train_loss: 2.6793, val_loss: 1.8686, val_acc: 0.2324\n",
            "Epoch [1], train_loss: 1.6195, val_loss: 1.4920, val_acc: 0.5375\n",
            "Epoch [2], train_loss: 1.5048, val_loss: 1.4935, val_acc: 0.5375\n",
            "Epoch [3], train_loss: 1.4711, val_loss: 1.4933, val_acc: 0.5375\n",
            "Epoch [4], train_loss: 1.4841, val_loss: 1.5279, val_acc: 0.5375\n",
            "Epoch [5], train_loss: 1.4823, val_loss: 1.4951, val_acc: 0.5375\n",
            "Epoch [6], train_loss: 1.4740, val_loss: 1.5037, val_acc: 0.5395\n",
            "Epoch [7], train_loss: 1.4670, val_loss: 1.4692, val_acc: 0.5395\n",
            "Epoch [8], train_loss: 1.4696, val_loss: 1.5570, val_acc: 0.5395\n",
            "Epoch [9], train_loss: 1.5385, val_loss: 1.4895, val_acc: 0.5375\n",
            "Epoch [10], train_loss: 1.5026, val_loss: 1.5393, val_acc: 0.5395\n",
            "Epoch [11], train_loss: 1.5031, val_loss: 1.5149, val_acc: 0.5395\n",
            "Epoch [12], train_loss: 1.4619, val_loss: 1.4949, val_acc: 0.5375\n",
            "Epoch [13], train_loss: 1.4776, val_loss: 1.4812, val_acc: 0.5375\n",
            "Epoch [14], train_loss: 1.4806, val_loss: 1.4760, val_acc: 0.5375\n",
            "Epoch [15], train_loss: 1.4674, val_loss: 1.4619, val_acc: 0.5395\n",
            "Epoch [16], train_loss: 1.4510, val_loss: 1.4540, val_acc: 0.5418\n",
            "Epoch [17], train_loss: 1.4612, val_loss: 1.4629, val_acc: 0.5438\n",
            "Epoch [18], train_loss: 1.4540, val_loss: 1.4548, val_acc: 0.5438\n",
            "Epoch [19], train_loss: 1.4632, val_loss: 1.4500, val_acc: 0.5438\n",
            "Epoch [20], train_loss: 1.4700, val_loss: 1.4487, val_acc: 0.5438\n",
            "Epoch [21], train_loss: 1.4565, val_loss: 1.4719, val_acc: 0.5438\n",
            "Epoch [22], train_loss: 1.4604, val_loss: 1.4491, val_acc: 0.5481\n",
            "Epoch [23], train_loss: 1.4396, val_loss: 1.4414, val_acc: 0.5395\n",
            "Epoch [24], train_loss: 1.3495, val_loss: 1.3645, val_acc: 0.5747\n",
            "Epoch [25], train_loss: 1.3785, val_loss: 1.2978, val_acc: 0.5907\n",
            "Epoch [26], train_loss: 1.1055, val_loss: 0.9972, val_acc: 0.6615\n",
            "Epoch [27], train_loss: 0.8022, val_loss: 0.9520, val_acc: 0.5881\n",
            "Epoch [28], train_loss: 0.6504, val_loss: 0.6196, val_acc: 0.8146\n",
            "Epoch [29], train_loss: 0.4438, val_loss: 0.3751, val_acc: 0.8803\n",
            "Epoch [30], train_loss: 0.3219, val_loss: 0.3120, val_acc: 0.8924\n",
            "Epoch [31], train_loss: 0.2403, val_loss: 0.1989, val_acc: 0.9327\n",
            "Epoch [32], train_loss: 0.1662, val_loss: 0.2064, val_acc: 0.9362\n",
            "Epoch [33], train_loss: 0.1416, val_loss: 0.1269, val_acc: 0.9515\n",
            "Epoch [34], train_loss: 0.0913, val_loss: 0.1546, val_acc: 0.9535\n"
          ],
          "name": "stdout"
        }
      ]
    },
    {
      "cell_type": "code",
      "metadata": {
        "id": "pKKJKgwSPZsX"
      },
      "source": [
        "def plot_accuracies(history):\n",
        "    accuracies = [x['val_acc'] for x in history]\n",
        "    plt.plot(accuracies, '-x')\n",
        "    plt.xlabel('epoch')\n",
        "    plt.ylabel('accuracy')\n",
        "    plt.title('Accuracy vs. No. of epochs');"
      ],
      "execution_count": 24,
      "outputs": []
    },
    {
      "cell_type": "code",
      "metadata": {
        "colab": {
          "base_uri": "https://localhost:8080/",
          "height": 295
        },
        "id": "2OYJHVplPbY9",
        "outputId": "acf81e96-bdbc-4ca9-b169-ce8b1ce4ae07"
      },
      "source": [
        "plot_accuracies(history)"
      ],
      "execution_count": 25,
      "outputs": [
        {
          "output_type": "display_data",
          "data": {
            "image/png": "[encoded data removed]",
            "text/plain": [
              "<Figure size 432x288 with 1 Axes>"
            ]
          },
          "metadata": {
            "tags": [],
            "needs_background": "light"
          }
        }
      ]
    },
    {
      "cell_type": "code",
      "metadata": {
        "id": "nbVZotGsPc8u"
      },
      "source": [
        "def plot_losses(history):\n",
        "    train_losses = [x.get('train_loss') for x in history]\n",
        "    val_losses = [x['val_loss'] for x in history]\n",
        "    plt.plot(train_losses, '-bx')\n",
        "    plt.plot(val_losses, '-rx')\n",
        "    plt.xlabel('epoch')\n",
        "    plt.ylabel('loss')\n",
        "    plt.legend(['Training', 'Validation'])\n",
        "    plt.title('Loss vs. No. of epochs');"
      ],
      "execution_count": 26,
      "outputs": []
    },
    {
      "cell_type": "code",
      "metadata": {
        "colab": {
          "base_uri": "https://localhost:8080/",
          "height": 295
        },
        "id": "tIF38A-qPebg",
        "outputId": "42ab9f72-135c-4c19-d919-41aba7283262"
      },
      "source": [
        "plot_losses(history)"
      ],
      "execution_count": 27,
      "outputs": [
        {
          "output_type": "display_data",
          "data": {
            "image/png": "[encoded data removed]",
            "text/plain": [
              "<Figure size 432x288 with 1 Axes>"
            ]
          },
          "metadata": {
            "tags": [],
            "needs_background": "light"
          }
        }
      ]
    }
  ]
}